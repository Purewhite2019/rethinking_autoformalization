{
 "cells": [
  {
   "cell_type": "code",
   "execution_count": 2,
   "metadata": {},
   "outputs": [],
   "source": [
    "import os\n",
    "import os.path as osp\n",
    "import regex as re\n",
    "import json\n",
    "\n",
    "from common.repl import REPL\n",
    "from common.utils import post_process_statement"
   ]
  },
  {
   "cell_type": "code",
   "execution_count": null,
   "metadata": {},
   "outputs": [
    {
     "name": "stdout",
     "output_type": "stream",
     "text": [
      "243797\n"
     ]
    }
   ],
   "source": [
    "with open('/path/to/rethinking_autoformalization/data/proofnet/library.jsonl', 'r') as f:\n",
    "    library = [json.loads(l) for l in f.readlines()]\n",
    "print(len(library))"
   ]
  },
  {
   "cell_type": "code",
   "execution_count": 4,
   "metadata": {},
   "outputs": [
    {
     "name": "stderr",
     "output_type": "stream",
     "text": [
      "\u001b[32m2025-03-25 12:45:24.016\u001b[0m | \u001b[34m\u001b[1mDEBUG   \u001b[0m | \u001b[36mcommon.repl\u001b[0m:\u001b[36m_run_interactive\u001b[0m:\u001b[36m37\u001b[0m - \u001b[34m\u001b[1mREPL._run_interactive(): Running.\u001b[0m\n",
      "\u001b[32m2025-03-25 12:45:24.471\u001b[0m | \u001b[34m\u001b[1mDEBUG   \u001b[0m | \u001b[36mcommon.repl\u001b[0m:\u001b[36m_run_interactive\u001b[0m:\u001b[36m53\u001b[0m - \u001b[34m\u001b[1mREPL._run_interactive(): Finished.\u001b[0m\n"
     ]
    }
   ],
   "source": [
    "repl = REPL(\n",
    "    repl_root='/path/to/repl',\n",
    "    project_root='/path/to/mathlib4',\n",
    ")\n",
    "repl._run_interactive()"
   ]
  },
  {
   "cell_type": "code",
   "execution_count": 5,
   "metadata": {},
   "outputs": [],
   "source": [
    "stmt, deps = post_process_statement(\n",
    "    stmt=r'''example (f : Polynomial ℤ) (hf : f = X^4 - 4*X^3 + 6) : Irreducible f :=\n",
    "sorry''',\n",
    "    init_env=repl.run_cmd(r'''import Mathlib'''),\n",
    "    repl=repl,\n",
    "    full_name_to_id={\n",
    "    t['full_name'] : i for (i, t) in enumerate(library)\n",
    "},\n",
    "    opens=r'''open Polynomial'''\n",
    ")"
   ]
  },
  {
   "cell_type": "code",
   "execution_count": 6,
   "metadata": {},
   "outputs": [
    {
     "name": "stdout",
     "output_type": "stream",
     "text": [
      "example (f : Polynomial ℤ)\n",
      "(hf : f = Polynomial.X ^ 4 - 4 * Polynomial.X ^ 3 + 6)\n",
      ": Irreducible f\n",
      ":= by sorry\n"
     ]
    }
   ],
   "source": [
    "print(stmt)"
   ]
  },
  {
   "cell_type": "code",
   "execution_count": 7,
   "metadata": {},
   "outputs": [
    {
     "name": "stdout",
     "output_type": "stream",
     "text": [
      "Irreducible\n",
      "Polynomial.X\n",
      "Polynomial\n"
     ]
    }
   ],
   "source": [
    "for d in deps:\n",
    "    print(library[d]['full_name'])"
   ]
  },
  {
   "cell_type": "code",
   "execution_count": null,
   "metadata": {},
   "outputs": [],
   "source": []
  }
 ],
 "metadata": {
  "kernelspec": {
   "display_name": "PyTorch-2.1.0",
   "language": "python",
   "name": "python3"
  },
  "language_info": {
   "codemirror_mode": {
    "name": "ipython",
    "version": 3
   },
   "file_extension": ".py",
   "mimetype": "text/x-python",
   "name": "python",
   "nbconvert_exporter": "python",
   "pygments_lexer": "ipython3",
   "version": "3.9.10"
  }
 },
 "nbformat": 4,
 "nbformat_minor": 2
}
